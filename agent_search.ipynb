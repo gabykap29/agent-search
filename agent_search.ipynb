{
 "cells": [
  {
   "cell_type": "code",
   "execution_count": 8,
   "id": "5fafa436",
   "metadata": {},
   "outputs": [],
   "source": [
    "from dotenv import load_dotenv\n",
    "import os\n",
    "\n",
    "load_dotenv()\n",
    "\n",
    "os.environ[\"TAVILY_API_KEY\"] = os.getenv(\"TAVILY_API_KEY\") \n",
    "if \"GOOGLE_API_KEY\" not in os.environ:\n",
    "    os.environ[\"GOOGLE_API_KEY\"] = os.getenv(\"GOOGLE_API_KEY\")\n",
    "\n",
    "model = \"gemini\"\n"
   ]
  },
  {
   "cell_type": "markdown",
   "id": "3fe1e293",
   "metadata": {},
   "source": [
    "### Importaciones"
   ]
  },
  {
   "cell_type": "code",
   "execution_count": 2,
   "id": "eacbc1da",
   "metadata": {},
   "outputs": [],
   "source": [
    "from langchain_ollama import ChatOllama\n",
    "from langchain_tavily import TavilySearch\n",
    "from langgraph.checkpoint.memory import MemorySaver\n",
    "from langgraph.prebuilt import create_react_agent\n",
    "from langchain_ollama.llms import OllamaLLM\n",
    "from langchain_google_genai import ChatGoogleGenerativeAI\n"
   ]
  },
  {
   "cell_type": "code",
   "execution_count": 3,
   "id": "fc0b8152",
   "metadata": {},
   "outputs": [],
   "source": [
    "if model.lower() == \"ollama\":\n",
    "    model = ChatOllama(\n",
    "        model=\"llama3.2\",\n",
    "        temperature=0.5,\n",
    "        max_tokens=2000,\n",
    "    )\n",
    "\n",
    "else:\n",
    "    model = ChatGoogleGenerativeAI(\n",
    "    model=\"gemini-2.0-flash\",\n",
    "    temperature=0.5,\n",
    "    max_tokens=2000,\n",
    ")"
   ]
  },
  {
   "cell_type": "markdown",
   "id": "fb11fc7d",
   "metadata": {},
   "source": [
    "### Creacion del Agente. "
   ]
  },
  {
   "cell_type": "code",
   "execution_count": 4,
   "id": "07c023ec",
   "metadata": {},
   "outputs": [],
   "source": [
    "memory = MemorySaver()\n",
    "search = TavilySearch(max_results=2)\n",
    "\n",
    "tools = [search]\n",
    "agent = create_react_agent(model, tools, checkpointer=memory)\n",
    "\n"
   ]
  },
  {
   "cell_type": "markdown",
   "id": "a961224d",
   "metadata": {},
   "source": [
    "### Historial de mensajes"
   ]
  },
  {
   "cell_type": "code",
   "execution_count": 5,
   "id": "efa5edd1",
   "metadata": {},
   "outputs": [],
   "source": [
    "historial = {\n",
    "    \"Usuario\":\"\",\n",
    "    \"Agente\":\"\"\n",
    "}"
   ]
  },
  {
   "cell_type": "markdown",
   "id": "ee6b0a54",
   "metadata": {},
   "source": [
    "### Usar el agente"
   ]
  },
  {
   "cell_type": "code",
   "execution_count": 6,
   "id": "8a67885c",
   "metadata": {},
   "outputs": [],
   "source": [
    "config = {\"configurable\": {\"thread_id\": \"1\"}}\n",
    "input_message = input(\"Solicitud a buscar\")\n",
    "historial[\"Usuario\"] = input_message\n",
    "for step in agent.stream(\n",
    "    {\"messages\": [input_message]}, config, stream_mode=\"values\"\n",
    "):\n",
    "    historial[\"Agente\"] = step[\"messages\"][-1].content\n",
    "\n",
    "\n"
   ]
  },
  {
   "cell_type": "code",
   "execution_count": 7,
   "id": "749b9094",
   "metadata": {},
   "outputs": [
    {
     "name": "stdout",
     "output_type": "stream",
     "text": [
      "Usuario:  busca en internet sobre la Ciclo de Licenciatura en Ciencia de Datos de la UGR sobre que tal es\n",
      "Agente:  Según la búsqueda, encontré un enlace a una charla informativa sobre el Ciclo de Licenciatura en Ciencia de Datos de la UGR. También encontré un artículo donde la UGR critica los informes que frenan el grado de Ciencia de Datos e IA en Melilla. Desafortunadamente, no encontré opiniones directas sobre qué tal es el ciclo de licenciatura. Te recomiendo buscar en foros de estudiantes de la UGR o en redes sociales para encontrar más opiniones.\n"
     ]
    }
   ],
   "source": [
    "print(\"Usuario: \",historial[\"Usuario\"])\n",
    "print(\"Agente: \", historial[\"Agente\"])\n",
    "\n"
   ]
  }
 ],
 "metadata": {
  "kernelspec": {
   "display_name": "env",
   "language": "python",
   "name": "python3"
  },
  "language_info": {
   "codemirror_mode": {
    "name": "ipython",
    "version": 3
   },
   "file_extension": ".py",
   "mimetype": "text/x-python",
   "name": "python",
   "nbconvert_exporter": "python",
   "pygments_lexer": "ipython3",
   "version": "3.12.10"
  }
 },
 "nbformat": 4,
 "nbformat_minor": 5
}
